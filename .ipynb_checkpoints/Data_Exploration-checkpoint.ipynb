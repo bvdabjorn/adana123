{
 "cells": [
  {
   "cell_type": "markdown",
   "metadata": {},
   "source": [
    "# Assignment 2 - Exploring the Dataset\n",
    "\n",
    "## Import statements: Useful tools"
   ]
  },
  {
   "cell_type": "code",
   "execution_count": 1,
   "metadata": {},
   "outputs": [],
   "source": [
    "import pandas as pd, numpy as np\n",
    "import matplotlib.pyplot as plt\n",
    "import seaborn as sns\n",
    "%matplotlib inline\n",
    "\n",
    "pd.set_option('display.max_rows', 500)\n",
    "pd.set_option('display.max_columns', 500)\n",
    "pd.set_option('display.width', 1000)"
   ]
  },
  {
   "cell_type": "markdown",
   "metadata": {},
   "source": [
    "## Loading the data"
   ]
  },
  {
   "cell_type": "code",
   "execution_count": 2,
   "metadata": {},
   "outputs": [
    {
     "name": "stdout",
     "output_type": "stream",
     "text": [
      "Unnamed: 0               int64\n",
      "id                       int64\n",
      "name                    object\n",
      "brand                   object\n",
      "base_name               object\n",
      "screen_size            float64\n",
      "pixels_x                 int64\n",
      "pixels_y                 int64\n",
      "screen_surface          object\n",
      "touchscreen              int64\n",
      "cpu                     object\n",
      "cpu_details             object\n",
      "detachable_keyboard    float64\n",
      "discrete_gpu             int64\n",
      "gpu                     object\n",
      "os                      object\n",
      "os_details              object\n",
      "ram                      int64\n",
      "ssd                      int64\n",
      "storage                  int64\n",
      "weight                 float64\n",
      "min_price              float64\n",
      "max_price              float64\n",
      "cpu_brand               object\n",
      "cpu_type_name           object\n",
      "gpu_brand               object\n",
      "gpu_type                object\n",
      "os_details_2            object\n",
      "cpu_details_2           object\n",
      "diff_price             float64\n",
      "dtype: object\n"
     ]
    }
   ],
   "source": [
    "missing_values = [\"n/a\", \"na\", \"--\",\"NAN\"]\n",
    "train = pd.read_csv('train.csv',na_values = missing_values)\n",
    "ext_data = pd.read_csv('datafile2.csv',na_values = missing_values)\n",
    "\n",
    "# print(ext_data.shape)\n",
    "# ext_data.head()\n",
    "print(ext_data.dtypes)"
   ]
  },
  {
   "cell_type": "markdown",
   "metadata": {},
   "source": [
    "## Cleaning up the data"
   ]
  },
  {
   "cell_type": "code",
   "execution_count": 3,
   "metadata": {},
   "outputs": [],
   "source": [
    "ext_data = ext_data.drop(columns='Unnamed: 0')\n",
    "ext_data = ext_data.drop(columns='id')\n",
    "ext_data = ext_data.drop(columns='base_name')\n",
    "ext_data = ext_data.drop(columns='cpu_details')\n",
    "ext_data = ext_data.drop(columns='os_details')\n",
    "ext_data = ext_data.drop(columns='gpu_type')\n",
    "ext_data = ext_data.drop(columns='cpu_details_2')\n",
    "ext_data = ext_data.drop(columns='cpu_type_name')\n",
    "ext_data = ext_data.drop(columns='name')\n",
    "\n"
   ]
  },
  {
   "cell_type": "code",
   "execution_count": 4,
   "metadata": {},
   "outputs": [
    {
     "name": "stdout",
     "output_type": "stream",
     "text": [
      "Index(['brand', 'screen_size', 'pixels_x', 'pixels_y', 'screen_surface', 'touchscreen', 'cpu', 'detachable_keyboard', 'discrete_gpu', 'gpu', 'os', 'ram', 'ssd', 'storage', 'weight', 'min_price', 'max_price', 'cpu_brand', 'gpu_brand', 'os_details_2', 'diff_price'], dtype='object')\n"
     ]
    }
   ],
   "source": [
    "columns = ext_data.columns\n",
    "print(columns)"
   ]
  },
  {
   "cell_type": "markdown",
   "metadata": {},
   "source": [
    "## Identifying missing values"
   ]
  },
  {
   "cell_type": "code",
   "execution_count": 5,
   "metadata": {},
   "outputs": [
    {
     "data": {
      "text/html": [
       "<div>\n",
       "<style scoped>\n",
       "    .dataframe tbody tr th:only-of-type {\n",
       "        vertical-align: middle;\n",
       "    }\n",
       "\n",
       "    .dataframe tbody tr th {\n",
       "        vertical-align: top;\n",
       "    }\n",
       "\n",
       "    .dataframe thead th {\n",
       "        text-align: right;\n",
       "    }\n",
       "</style>\n",
       "<table border=\"1\" class=\"dataframe\">\n",
       "  <thead>\n",
       "    <tr style=\"text-align: right;\">\n",
       "      <th></th>\n",
       "      <th>screen_size</th>\n",
       "      <th>pixels_x</th>\n",
       "      <th>pixels_y</th>\n",
       "      <th>touchscreen</th>\n",
       "      <th>detachable_keyboard</th>\n",
       "      <th>discrete_gpu</th>\n",
       "      <th>ram</th>\n",
       "      <th>ssd</th>\n",
       "      <th>storage</th>\n",
       "      <th>weight</th>\n",
       "      <th>min_price</th>\n",
       "      <th>max_price</th>\n",
       "      <th>diff_price</th>\n",
       "    </tr>\n",
       "  </thead>\n",
       "  <tbody>\n",
       "    <tr>\n",
       "      <th>count</th>\n",
       "      <td>510.000000</td>\n",
       "      <td>510.000000</td>\n",
       "      <td>510.000000</td>\n",
       "      <td>510.000000</td>\n",
       "      <td>506.000000</td>\n",
       "      <td>510.000000</td>\n",
       "      <td>510.000000</td>\n",
       "      <td>510.000000</td>\n",
       "      <td>510.000000</td>\n",
       "      <td>506.000000</td>\n",
       "      <td>510.000000</td>\n",
       "      <td>510.000000</td>\n",
       "      <td>510.000000</td>\n",
       "    </tr>\n",
       "    <tr>\n",
       "      <th>mean</th>\n",
       "      <td>14.648235</td>\n",
       "      <td>1865.972549</td>\n",
       "      <td>1074.564706</td>\n",
       "      <td>0.347059</td>\n",
       "      <td>0.035573</td>\n",
       "      <td>0.290196</td>\n",
       "      <td>9.590196</td>\n",
       "      <td>198.909804</td>\n",
       "      <td>574.749020</td>\n",
       "      <td>4.197925</td>\n",
       "      <td>793.677686</td>\n",
       "      <td>829.228000</td>\n",
       "      <td>35.550314</td>\n",
       "    </tr>\n",
       "    <tr>\n",
       "      <th>std</th>\n",
       "      <td>1.606050</td>\n",
       "      <td>565.111787</td>\n",
       "      <td>354.346764</td>\n",
       "      <td>0.476502</td>\n",
       "      <td>0.185407</td>\n",
       "      <td>0.454298</td>\n",
       "      <td>6.246940</td>\n",
       "      <td>244.424611</td>\n",
       "      <td>517.445695</td>\n",
       "      <td>1.342661</td>\n",
       "      <td>543.619499</td>\n",
       "      <td>570.076909</td>\n",
       "      <td>79.722248</td>\n",
       "    </tr>\n",
       "    <tr>\n",
       "      <th>min</th>\n",
       "      <td>10.100000</td>\n",
       "      <td>1280.000000</td>\n",
       "      <td>768.000000</td>\n",
       "      <td>0.000000</td>\n",
       "      <td>0.000000</td>\n",
       "      <td>0.000000</td>\n",
       "      <td>2.000000</td>\n",
       "      <td>0.000000</td>\n",
       "      <td>16.000000</td>\n",
       "      <td>1.370000</td>\n",
       "      <td>69.000000</td>\n",
       "      <td>76.000000</td>\n",
       "      <td>0.000000</td>\n",
       "    </tr>\n",
       "    <tr>\n",
       "      <th>25%</th>\n",
       "      <td>13.300000</td>\n",
       "      <td>1366.000000</td>\n",
       "      <td>768.000000</td>\n",
       "      <td>0.000000</td>\n",
       "      <td>0.000000</td>\n",
       "      <td>0.000000</td>\n",
       "      <td>4.000000</td>\n",
       "      <td>0.000000</td>\n",
       "      <td>128.000000</td>\n",
       "      <td>3.020000</td>\n",
       "      <td>380.110000</td>\n",
       "      <td>399.225000</td>\n",
       "      <td>0.000000</td>\n",
       "    </tr>\n",
       "    <tr>\n",
       "      <th>50%</th>\n",
       "      <td>15.600000</td>\n",
       "      <td>1920.000000</td>\n",
       "      <td>1080.000000</td>\n",
       "      <td>0.000000</td>\n",
       "      <td>0.000000</td>\n",
       "      <td>0.000000</td>\n",
       "      <td>8.000000</td>\n",
       "      <td>128.000000</td>\n",
       "      <td>500.000000</td>\n",
       "      <td>4.310000</td>\n",
       "      <td>638.500000</td>\n",
       "      <td>649.000000</td>\n",
       "      <td>6.610000</td>\n",
       "    </tr>\n",
       "    <tr>\n",
       "      <th>75%</th>\n",
       "      <td>15.600000</td>\n",
       "      <td>1920.000000</td>\n",
       "      <td>1080.000000</td>\n",
       "      <td>1.000000</td>\n",
       "      <td>0.000000</td>\n",
       "      <td>1.000000</td>\n",
       "      <td>16.000000</td>\n",
       "      <td>256.000000</td>\n",
       "      <td>1000.000000</td>\n",
       "      <td>4.935000</td>\n",
       "      <td>1099.742500</td>\n",
       "      <td>1179.742500</td>\n",
       "      <td>35.032500</td>\n",
       "    </tr>\n",
       "    <tr>\n",
       "      <th>max</th>\n",
       "      <td>17.300000</td>\n",
       "      <td>3840.000000</td>\n",
       "      <td>2160.000000</td>\n",
       "      <td>1.000000</td>\n",
       "      <td>1.000000</td>\n",
       "      <td>1.000000</td>\n",
       "      <td>64.000000</td>\n",
       "      <td>2000.000000</td>\n",
       "      <td>4000.000000</td>\n",
       "      <td>9.740000</td>\n",
       "      <td>2999.110000</td>\n",
       "      <td>2999.110000</td>\n",
       "      <td>900.110000</td>\n",
       "    </tr>\n",
       "  </tbody>\n",
       "</table>\n",
       "</div>"
      ],
      "text/plain": [
       "       screen_size     pixels_x     pixels_y  touchscreen  detachable_keyboard  discrete_gpu         ram          ssd      storage      weight    min_price    max_price  diff_price\n",
       "count   510.000000   510.000000   510.000000   510.000000           506.000000    510.000000  510.000000   510.000000   510.000000  506.000000   510.000000   510.000000  510.000000\n",
       "mean     14.648235  1865.972549  1074.564706     0.347059             0.035573      0.290196    9.590196   198.909804   574.749020    4.197925   793.677686   829.228000   35.550314\n",
       "std       1.606050   565.111787   354.346764     0.476502             0.185407      0.454298    6.246940   244.424611   517.445695    1.342661   543.619499   570.076909   79.722248\n",
       "min      10.100000  1280.000000   768.000000     0.000000             0.000000      0.000000    2.000000     0.000000    16.000000    1.370000    69.000000    76.000000    0.000000\n",
       "25%      13.300000  1366.000000   768.000000     0.000000             0.000000      0.000000    4.000000     0.000000   128.000000    3.020000   380.110000   399.225000    0.000000\n",
       "50%      15.600000  1920.000000  1080.000000     0.000000             0.000000      0.000000    8.000000   128.000000   500.000000    4.310000   638.500000   649.000000    6.610000\n",
       "75%      15.600000  1920.000000  1080.000000     1.000000             0.000000      1.000000   16.000000   256.000000  1000.000000    4.935000  1099.742500  1179.742500   35.032500\n",
       "max      17.300000  3840.000000  2160.000000     1.000000             1.000000      1.000000   64.000000  2000.000000  4000.000000    9.740000  2999.110000  2999.110000  900.110000"
      ]
     },
     "execution_count": 5,
     "metadata": {},
     "output_type": "execute_result"
    }
   ],
   "source": [
    "ext_data.describe()"
   ]
  },
  {
   "cell_type": "code",
   "execution_count": 6,
   "metadata": {},
   "outputs": [
    {
     "data": {
      "text/html": [
       "<div>\n",
       "<style scoped>\n",
       "    .dataframe tbody tr th:only-of-type {\n",
       "        vertical-align: middle;\n",
       "    }\n",
       "\n",
       "    .dataframe tbody tr th {\n",
       "        vertical-align: top;\n",
       "    }\n",
       "\n",
       "    .dataframe thead th {\n",
       "        text-align: right;\n",
       "    }\n",
       "</style>\n",
       "<table border=\"1\" class=\"dataframe\">\n",
       "  <thead>\n",
       "    <tr style=\"text-align: right;\">\n",
       "      <th></th>\n",
       "      <th>brand</th>\n",
       "      <th>screen_surface</th>\n",
       "      <th>cpu</th>\n",
       "      <th>gpu</th>\n",
       "      <th>os</th>\n",
       "      <th>cpu_brand</th>\n",
       "      <th>gpu_brand</th>\n",
       "      <th>os_details_2</th>\n",
       "    </tr>\n",
       "  </thead>\n",
       "  <tbody>\n",
       "    <tr>\n",
       "      <th>count</th>\n",
       "      <td>510</td>\n",
       "      <td>498</td>\n",
       "      <td>510</td>\n",
       "      <td>508</td>\n",
       "      <td>508</td>\n",
       "      <td>510</td>\n",
       "      <td>508</td>\n",
       "      <td>508</td>\n",
       "    </tr>\n",
       "    <tr>\n",
       "      <th>unique</th>\n",
       "      <td>18</td>\n",
       "      <td>2</td>\n",
       "      <td>23</td>\n",
       "      <td>73</td>\n",
       "      <td>4</td>\n",
       "      <td>6</td>\n",
       "      <td>6</td>\n",
       "      <td>20</td>\n",
       "    </tr>\n",
       "    <tr>\n",
       "      <th>top</th>\n",
       "      <td>DELL</td>\n",
       "      <td>GLOSSY</td>\n",
       "      <td>INTEL CORE I7</td>\n",
       "      <td>INTEL UHD 620</td>\n",
       "      <td>WINDOWS</td>\n",
       "      <td>INTEL</td>\n",
       "      <td>INTEL</td>\n",
       "      <td>10 HOME</td>\n",
       "    </tr>\n",
       "    <tr>\n",
       "      <th>freq</th>\n",
       "      <td>108</td>\n",
       "      <td>270</td>\n",
       "      <td>181</td>\n",
       "      <td>69</td>\n",
       "      <td>431</td>\n",
       "      <td>457</td>\n",
       "      <td>314</td>\n",
       "      <td>253</td>\n",
       "    </tr>\n",
       "  </tbody>\n",
       "</table>\n",
       "</div>"
      ],
      "text/plain": [
       "       brand screen_surface            cpu            gpu       os cpu_brand gpu_brand os_details_2\n",
       "count    510            498            510            508      508       510       508          508\n",
       "unique    18              2             23             73        4         6         6           20\n",
       "top     DELL         GLOSSY  INTEL CORE I7  INTEL UHD 620  WINDOWS     INTEL     INTEL      10 HOME\n",
       "freq     108            270            181             69      431       457       314          253"
      ]
     },
     "execution_count": 6,
     "metadata": {},
     "output_type": "execute_result"
    }
   ],
   "source": [
    "ext_data.describe(include='object')"
   ]
  },
  {
   "cell_type": "code",
   "execution_count": 7,
   "metadata": {},
   "outputs": [
    {
     "name": "stdout",
     "output_type": "stream",
     "text": [
      "4 screen_surface\n",
      "7 detachable_keyboard\n",
      "9 gpu\n",
      "10 os\n",
      "14 weight\n",
      "18 gpu_brand\n",
      "19 os_details_2\n"
     ]
    }
   ],
   "source": [
    "# All Columns with at least one empty cell (nan)\n",
    "for i in range(0,len(columns)):\n",
    "    if not ext_data[ext_data[columns[i]].isnull()].empty:\n",
    "        print(i , columns[i])\n",
    "        \n",
    "# ext_data[ext_data[columns[1]]]"
   ]
  },
  {
   "cell_type": "code",
   "execution_count": 8,
   "metadata": {},
   "outputs": [
    {
     "name": "stdout",
     "output_type": "stream",
     "text": [
      "\n",
      "brand\n",
      "['LENOVO' 'RAZER' 'HP' 'ACER' 'ASUS' 'DELL' 'MSI' 'APPLE' 'SAMSUNG'\n",
      " 'MICROSOFT' 'OTHER' 'ALIENWARE' 'HUAWEI' 'LG' 'RCA' 'TOSHIBA' 'GOOGLE'\n",
      " 'JUMPER']\n",
      "\n",
      "screen_size\n",
      "[15.6 17.3 11.6 14.  15.  12.3 13.3 12.5 12.  16.  10.1 13.5 13.9 15.4\n",
      " 17.  12.2 10.8]\n",
      "\n",
      "pixels_x\n",
      "[1920 1366 1600 3840 2400 1280 2736 2304 3200 3072 2256 3000 2560 2160\n",
      " 2880 1440 3240]\n",
      "\n",
      "pixels_y\n",
      "[1080  768  900 2160 1600  800 1824 1440 1800 1920 1200 1504 2000 1280]\n",
      "\n",
      "screen_surface\n",
      "['GLOSSY' 'MATTE' nan]\n",
      "\n",
      "touchscreen\n",
      "[1 0]\n",
      "\n",
      "cpu\n",
      "['INTEL CORE I7' 'AMD A6' 'INTEL CORE I3' 'INTEL CORE I5' 'INTEL CELERON'\n",
      " 'AMD RYZEN 5' 'AMD A8' 'INTEL PENTIUM' 'OP1' 'AMD RYZEN 3' 'AMD A12'\n",
      " 'INTEL CORE M3' 'INTEL CORE I9' 'INTEL ATOM' 'AMD E2' 'ROCKCHIP' 'AMD A9'\n",
      " 'MEDIATEK' 'AMD RYZEN 7' 'SAMSUNG EXYNOS' 'INTEL XEON' 'AMD FX' 'AMD A10']\n",
      "\n",
      "detachable_keyboard\n",
      "[ 0. nan  1.]\n",
      "\n",
      "discrete_gpu\n",
      "[0 1]\n",
      "\n",
      "os\n",
      "['WINDOWS' 'CHROME OS' 'MACOS' 'ANDROID' nan]\n",
      "\n",
      "ram\n",
      "[ 8 16  6  4  2 64 32 12  3]\n",
      "\n",
      "ssd\n",
      "[   0  512   16  256   32  128    8 2000  500   64  180 1000  250]\n",
      "\n",
      "storage\n",
      "[1000  512  500   16 2000 1256   32 1024  256  128  750 1008 4000 1500\n",
      " 1128   64 2500  180  320 1250 1512 2256 2512]\n",
      "\n",
      "cpu_brand\n",
      "['INTEL' 'AMD' 'OP1' 'ROCKCHIP' 'MEDIATEK' 'SAMSUNG']\n",
      "\n",
      "gpu_brand\n",
      "['INTEL' 'NVIDIA' 'AMD' nan 'MALI-T860' 'POWERVR' 'IMAGINATION']\n",
      "\n",
      "os_details_2\n",
      "['10' '10 HOME' 'CHROME OS' '8.1' '10 PRO' 'YOSEMITE' 'LION' '8'\n",
      " 'HIGH SIERRA' 'CATALINA' '10 S' '6' '10 HOME SIGNATURE EDITION' 'MOJAVE'\n",
      " '7' '10 IOT' 'SIERRA' nan 'MAVERICKS' ' X LION' 'EL CAPITAN']\n"
     ]
    }
   ],
   "source": [
    "# Unique values of a column\n",
    "for i in range(0,len(columns)):\n",
    "# print(columns[i])\n",
    "    if len(ext_data[columns[i]].unique()) < 30:\n",
    "        print(\"\")\n",
    "        print(columns[i])\n",
    "        print(ext_data[columns[i]].unique())\n",
    "# ext_data[columns[i]].isnull().unique()"
   ]
  },
  {
   "cell_type": "markdown",
   "metadata": {},
   "source": [
    "## Data Visualization"
   ]
  },
  {
   "cell_type": "markdown",
   "metadata": {},
   "source": [
    "The Distribution of the difference in max and min price for different laptop brands can be usefull to check how the prices deviate for different instances. "
   ]
  },
  {
   "cell_type": "code",
   "execution_count": 9,
   "metadata": {},
   "outputs": [
    {
     "data": {
      "image/png": "[encoded data removed]",
      "text/plain": [
       "<Figure size 720x432 with 1 Axes>"
      ]
     },
     "metadata": {
      "needs_background": "light"
     },
     "output_type": "display_data"
    }
   ],
   "source": [
    "fig = plt.figure(figsize=(10,6))\n",
    "\n",
    "df_temp1 = ext_data.loc[ext_data['brand'] == 'APPLE']\n",
    "# df_temp2 = ext_data.loc[ext_data['brand'] == 'GOOGLE']\n",
    "df_temp3 = ext_data.loc[ext_data['brand'] == 'MICROSOFT']\n",
    "\n",
    "sns.distplot(df_temp1['diff_price'])\n",
    "# sns.distplot(df_temp2['diff_price'])\n",
    "sns.distplot(df_temp3['diff_price'])\n",
    "\n",
    "fig.legend(labels=['APPLE','MICOROSOFT'])\n",
    "plt.show()"
   ]
  },
  {
   "cell_type": "code",
   "execution_count": 10,
   "metadata": {},
   "outputs": [
    {
     "data": {
      "image/png": "[encoded data removed]",
      "text/plain": [
       "<Figure size 720x432 with 1 Axes>"
      ]
     },
     "metadata": {
      "needs_background": "light"
     },
     "output_type": "display_data"
    }
   ],
   "source": [
    "fig = plt.figure(figsize=(10,6))\n",
    "\n",
    "df_temp1 = ext_data.loc[ext_data['screen_size'] <= 15.0]\n",
    "df_temp2 = ext_data.loc[ext_data['screen_size'] > 15.0]\n",
    "# df_temp3 = ext_data.loc[ext_data['brand'] == 'MICROSOFT']\n",
    "\n",
    "sns.distplot(df_temp1['diff_price'])\n",
    "sns.distplot(df_temp2['diff_price'])\n",
    "# sns.distplot(df_temp3['diff_price'])\n",
    "\n",
    "fig.legend(labels=['<=15','>15'])\n",
    "plt.show()"
   ]
  },
  {
   "cell_type": "code",
   "execution_count": 11,
   "metadata": {},
   "outputs": [
    {
     "data": {
      "image/png": "[encoded data removed]",
      "text/plain": [
       "<Figure size 720x432 with 1 Axes>"
      ]
     },
     "metadata": {
      "needs_background": "light"
     },
     "output_type": "display_data"
    }
   ],
   "source": [
    "## Whether having a discrete gpu affects the price variation\n",
    "fig = plt.figure(figsize=(10,6))\n",
    "\n",
    "df_temp1 = ext_data.loc[ext_data['discrete_gpu'] == 0]\n",
    "df_temp2 = ext_data.loc[ext_data['discrete_gpu'] == 1]\n",
    "# df_temp3 = ext_data.loc[ext_data['brand'] == 'MICROSOFT']\n",
    "\n",
    "# sns.distplot(df_temp1['diff_price'])\n",
    "# sns.distplot(df_temp2['diff_price'])\n",
    "sns.kdeplot(df_temp1['diff_price'], shade=True)\n",
    "sns.kdeplot(df_temp2['diff_price'], shade=True)\n",
    "# sns.distplot(df_temp3['diff_price'])\n",
    "\n",
    "fig.legend(labels=['no GPU','Dedicated GPU'])\n",
    "plt.show()"
   ]
  },
  {
   "cell_type": "code",
   "execution_count": 12,
   "metadata": {},
   "outputs": [
    {
     "data": {
      "text/plain": [
       "<seaborn.axisgrid.FacetGrid at 0x1a1d44cb00>"
      ]
     },
     "execution_count": 12,
     "metadata": {},
     "output_type": "execute_result"
    },
    {
     "data": {
      "image/png": "[encoded data removed]",
      "text/plain": [
       "<Figure size 1440x360 with 4 Axes>"
      ]
     },
     "metadata": {
      "needs_background": "light"
     },
     "output_type": "display_data"
    }
   ],
   "source": [
    "## Showing the # of instances for each ssd size per type of OS\n",
    "sns.catplot(y='ssd', col='os', data=ext_data, kind='count')"
   ]
  },
  {
   "cell_type": "code",
   "execution_count": null,
   "metadata": {},
   "outputs": [],
   "source": []
  },
  {
   "cell_type": "code",
   "execution_count": null,
   "metadata": {},
   "outputs": [],
   "source": []
  },
  {
   "cell_type": "code",
   "execution_count": null,
   "metadata": {},
   "outputs": [],
   "source": []
  }
 ],
 "metadata": {
  "kernelspec": {
   "display_name": "Python 3",
   "language": "python",
   "name": "python3"
  },
  "language_info": {
   "codemirror_mode": {
    "name": "ipython",
    "version": 3
   },
   "file_extension": ".py",
   "mimetype": "text/x-python",
   "name": "python",
   "nbconvert_exporter": "python",
   "pygments_lexer": "ipython3",
   "version": "3.7.3"
  }
 },
 "nbformat": 4,
 "nbformat_minor": 2
}
