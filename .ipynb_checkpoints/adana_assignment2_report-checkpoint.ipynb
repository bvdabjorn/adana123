{
 "cells": [
  {
   "cell_type": "markdown",
   "metadata": {},
   "source": [
    "# Assignment 2: Predicting Minimum and Maximum PC prices\n"
   ]
  },
  {
   "cell_type": "markdown",
   "metadata": {},
   "source": [
    "## 1. Problem Description\n",
    "\n",
    "<b> The Input Variables: </b><br>\n",
    "The dataset consists of mainly categorical and nominal data. Some examples are CPU type (i3 vs i5 vs i7) which are discrete values. The ram and storage size are also nominal since they can only take a few values: 8gb vs 16gb vs 32gb and 128gb vs 256gb vs 512gb. <br>\n",
    "The only true numerical input variables are *__weight__* and *__cpu clock speed__*.  \n",
    "\n",
    "<b> The Output Variables: </b><br>\n",
    "The problem becomes more complex because the model needs to predict two target variables, a minimum and a maximum price, for every instance. These output variables are neither categorical nor nominal, they are numerical (continuous) variables. This already eliminates the use of relativly straight forward binary decision tree modelling. \n"
   ]
  },
  {
   "cell_type": "code",
   "execution_count": null,
   "metadata": {},
   "outputs": [],
   "source": []
  },
  {
   "cell_type": "markdown",
   "metadata": {},
   "source": [
    "## 2. Preprocessing\n",
    "\n",
    "Preprocessing is critically important to extract useful features from the input data. Below some of the possibly useful features, for which data is available, are determined.\n",
    "\n",
    "<b> Extracting useful features: </b>\n",
    "- CPU brand\n",
    "- CPU type (i3, i5, i7, Ryzen 5, Ryzen 7, etc)\n",
    "- CPU clock speed (GHz)\n",
    "- CPU number of cores\n",
    "- GPU type (GTX, RTX, Radeon, etc)\n",
    "- OS version (7, 8.1, 10, Yosemite, Mojave)\n",
    "\n",
    "   "
   ]
  },
  {
   "cell_type": "code",
   "execution_count": null,
   "metadata": {},
   "outputs": [],
   "source": []
  }
 ],
 "metadata": {
  "kernelspec": {
   "display_name": "Python 3",
   "language": "python",
   "name": "python3"
  },
  "language_info": {
   "codemirror_mode": {
    "name": "ipython",
    "version": 3
   },
   "file_extension": ".py",
   "mimetype": "text/x-python",
   "name": "python",
   "nbconvert_exporter": "python",
   "pygments_lexer": "ipython3",
   "version": "3.7.3"
  }
 },
 "nbformat": 4,
 "nbformat_minor": 2
}
