{
 "cells": [
  {
   "cell_type": "markdown",
   "metadata": {},
   "source": [
    "# Assignment 2: Predicting Minimum and Maximum PC prices\n"
   ]
  },
  {
   "cell_type": "markdown",
   "metadata": {},
   "source": [
    "## 1. Problem Description\n",
    "\n",
    "<b> The Input Variables: </b><br>\n",
    "The dataset consists of mainly categorical and nominal data. Some examples are CPU type (i3 vs i5 vs i7) which are discrete values. The ram and storage size are also nominal since they can only take a few values: 8gb vs 16gb vs 32gb and 128gb vs 256gb vs 512gb. <br>\n",
    "The only numerical input variables are *__weight__* and *__cpu clock speed__*. But even the clock speed only takes on a couple of discrete numerical values. \n",
    "\n",
    "<b> The Output Variables: </b><br>\n",
    "The problem becomes more complex because the model needs to predict two target variables, a minimum and a maximum price, for every instance. These output variables are neither categorical nor nominal, they are numerical (continuous) variables. This already eliminates the use of relativly straight forward binary decision tree modelling. \n"
   ]
  },
  {
   "cell_type": "code",
   "execution_count": null,
   "metadata": {},
   "outputs": [],
   "source": []
  },
  {
   "cell_type": "markdown",
   "metadata": {},
   "source": [
    "## 2. Preprocessing\n",
    "\n",
    "Preprocessing is critically important to extract useful features from the input data. Below some of the possibly useful features, for which data is available, are determined.\n",
    "\n",
    "<b> Extracting useful features: </b>\n",
    "- CPU brand\n",
    "- CPU type (i3, i5, i7, Ryzen 5, Ryzen 7, etc)\n",
    "- CPU clock speed (GHz)\n",
    "- CPU number of cores\n",
    "- GPU type (GTX, RTX, Radeon, etc)\n",
    "- OS version (7, 8.1, 10, Yosemite, Mojave)\n",
    "\n",
    "   "
   ]
  },
  {
   "cell_type": "code",
   "execution_count": null,
   "metadata": {},
   "outputs": [],
   "source": []
  },
  {
   "cell_type": "markdown",
   "metadata": {},
   "source": [
    "## 3. Modelling Approaches\n",
    "\n",
    "The model needs to be able to predict two values. A minimum price and a maximum price. Because these values are numerical, not all models are suitable for this. Below is a list of possible models that can be used. In general, because there are two targets, a decision must be made whether to use two models or a single model.<br>\n",
    "\n",
    "<b> Possible models : </b>\n",
    "- **Single Target Regression Trees:** Use input variables to devide data and fit simple local models at each leaf node of the tree. Two regression trees can be used to predict the two targets. One tree to predict the minimum value and another to predict the maximum value. Generalizes well in case of missing or new data: combine the leaf nodes.<br>\n",
    "\n",
    "\n",
    "- **Multi Target Regression:**  Trees able to predict multiple continuous targets at once. A multi-target regression tree better identifies the dependencies between the different target variables than a single-target regression tree and is often smaller than the two single-target trees combined.<br>\n",
    "\n",
    "\n",
    "- **Random Forest Multi Target Regression:** This is booklet of many different trees for which the predictions are combined. This technique is much more robust against noice and prevents overfitting.\n",
    "\n",
    "\n",
    "- **Multi Output Neural Networks:** An artificial neural network with two output nodes. One node for the minimum price and one for the maximum price.\n",
    "\n",
    "- **Multi Regressor SVR:**\n",
    "\n"
   ]
  },
  {
   "cell_type": "code",
   "execution_count": null,
   "metadata": {},
   "outputs": [],
   "source": []
  }
 ],
 "metadata": {
  "kernelspec": {
   "display_name": "Python 3",
   "language": "python",
   "name": "python3"
  },
  "language_info": {
   "codemirror_mode": {
    "name": "ipython",
    "version": 3
   },
   "file_extension": ".py",
   "mimetype": "text/x-python",
   "name": "python",
   "nbconvert_exporter": "python",
   "pygments_lexer": "ipython3",
   "version": "3.7.4"
  }
 },
 "nbformat": 4,
 "nbformat_minor": 2
}
